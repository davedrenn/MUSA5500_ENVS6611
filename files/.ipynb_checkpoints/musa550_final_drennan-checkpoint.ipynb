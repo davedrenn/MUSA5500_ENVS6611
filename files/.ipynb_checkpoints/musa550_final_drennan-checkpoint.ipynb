{
 "cells": [
  {
   "cell_type": "code",
   "execution_count": 88,
   "id": "c6907d6d-1523-43aa-9e0e-a3c5c08c6edd",
   "metadata": {
    "tags": []
   },
   "outputs": [],
   "source": [
    "import geopandas as gpd\n",
    "import holoviews as hv\n",
    "import hvplot.pandas\n",
    "import numpy as np\n",
    "import pandas as pd\n",
    "import seaborn as sns\n",
    "from matplotlib import pyplot as plt\n",
    "import panel as pn\n",
    "import cenpy\n",
    "import pygris\n",
    "\n",
    "import dask.dataframe as da\n",
    "import intake\n",
    "\n",
    "import requests\n",
    "\n",
    "pd.options.display.max_columns = 999\n",
    "pd.options.display.max_rows = 999\n"
   ]
  },
  {
   "cell_type": "code",
   "execution_count": 41,
   "id": "d4383cbe-8b9b-4c5f-a99b-0ebc1cb9ff30",
   "metadata": {
    "tags": []
   },
   "outputs": [],
   "source": [
    "from sklearn.cluster import KMeans\n",
    "\n",
    "from sklearn.preprocessing import MinMaxScaler, RobustScaler\n",
    "from sklearn.preprocessing import StandardScaler\n",
    "scaler = StandardScaler()\n",
    "\n",
    "\n",
    "import altair as alt\n",
    "from vega_datasets import data as vega_data"
   ]
  },
  {
   "cell_type": "code",
   "execution_count": 42,
   "id": "f4c06424-841b-4f2d-96be-fa0931dc7cf9",
   "metadata": {
    "tags": []
   },
   "outputs": [],
   "source": [
    "claims_clustering = pd.read_csv(\"data/claims_NJ.csv\").dropna(subset=['buildingDamageAmount', 'buildingPropertyValue'])\n",
    "\n",
    "claims_2020_2023 = claims_clustering[claims_clustering['yearOfLoss'] >= 2022]\n"
   ]
  },
  {
   "cell_type": "code",
   "execution_count": 49,
   "id": "6192a829-0c2c-497a-a7a5-f8d230f2fe80",
   "metadata": {
    "tags": []
   },
   "outputs": [],
   "source": [
    "kmeans = KMeans(n_clusters=6, n_init=10)"
   ]
  },
  {
   "cell_type": "code",
   "execution_count": 50,
   "id": "6680bfd0-0e46-4710-8c18-c29bb1e4aebd",
   "metadata": {
    "tags": []
   },
   "outputs": [
    {
     "data": {
      "text/html": [
       "<style>#sk-container-id-3 {color: black;}#sk-container-id-3 pre{padding: 0;}#sk-container-id-3 div.sk-toggleable {background-color: white;}#sk-container-id-3 label.sk-toggleable__label {cursor: pointer;display: block;width: 100%;margin-bottom: 0;padding: 0.3em;box-sizing: border-box;text-align: center;}#sk-container-id-3 label.sk-toggleable__label-arrow:before {content: \"▸\";float: left;margin-right: 0.25em;color: #696969;}#sk-container-id-3 label.sk-toggleable__label-arrow:hover:before {color: black;}#sk-container-id-3 div.sk-estimator:hover label.sk-toggleable__label-arrow:before {color: black;}#sk-container-id-3 div.sk-toggleable__content {max-height: 0;max-width: 0;overflow: hidden;text-align: left;background-color: #f0f8ff;}#sk-container-id-3 div.sk-toggleable__content pre {margin: 0.2em;color: black;border-radius: 0.25em;background-color: #f0f8ff;}#sk-container-id-3 input.sk-toggleable__control:checked~div.sk-toggleable__content {max-height: 200px;max-width: 100%;overflow: auto;}#sk-container-id-3 input.sk-toggleable__control:checked~label.sk-toggleable__label-arrow:before {content: \"▾\";}#sk-container-id-3 div.sk-estimator input.sk-toggleable__control:checked~label.sk-toggleable__label {background-color: #d4ebff;}#sk-container-id-3 div.sk-label input.sk-toggleable__control:checked~label.sk-toggleable__label {background-color: #d4ebff;}#sk-container-id-3 input.sk-hidden--visually {border: 0;clip: rect(1px 1px 1px 1px);clip: rect(1px, 1px, 1px, 1px);height: 1px;margin: -1px;overflow: hidden;padding: 0;position: absolute;width: 1px;}#sk-container-id-3 div.sk-estimator {font-family: monospace;background-color: #f0f8ff;border: 1px dotted black;border-radius: 0.25em;box-sizing: border-box;margin-bottom: 0.5em;}#sk-container-id-3 div.sk-estimator:hover {background-color: #d4ebff;}#sk-container-id-3 div.sk-parallel-item::after {content: \"\";width: 100%;border-bottom: 1px solid gray;flex-grow: 1;}#sk-container-id-3 div.sk-label:hover label.sk-toggleable__label {background-color: #d4ebff;}#sk-container-id-3 div.sk-serial::before {content: \"\";position: absolute;border-left: 1px solid gray;box-sizing: border-box;top: 0;bottom: 0;left: 50%;z-index: 0;}#sk-container-id-3 div.sk-serial {display: flex;flex-direction: column;align-items: center;background-color: white;padding-right: 0.2em;padding-left: 0.2em;position: relative;}#sk-container-id-3 div.sk-item {position: relative;z-index: 1;}#sk-container-id-3 div.sk-parallel {display: flex;align-items: stretch;justify-content: center;background-color: white;position: relative;}#sk-container-id-3 div.sk-item::before, #sk-container-id-3 div.sk-parallel-item::before {content: \"\";position: absolute;border-left: 1px solid gray;box-sizing: border-box;top: 0;bottom: 0;left: 50%;z-index: -1;}#sk-container-id-3 div.sk-parallel-item {display: flex;flex-direction: column;z-index: 1;position: relative;background-color: white;}#sk-container-id-3 div.sk-parallel-item:first-child::after {align-self: flex-end;width: 50%;}#sk-container-id-3 div.sk-parallel-item:last-child::after {align-self: flex-start;width: 50%;}#sk-container-id-3 div.sk-parallel-item:only-child::after {width: 0;}#sk-container-id-3 div.sk-dashed-wrapped {border: 1px dashed gray;margin: 0 0.4em 0.5em 0.4em;box-sizing: border-box;padding-bottom: 0.4em;background-color: white;}#sk-container-id-3 div.sk-label label {font-family: monospace;font-weight: bold;display: inline-block;line-height: 1.2em;}#sk-container-id-3 div.sk-label-container {text-align: center;}#sk-container-id-3 div.sk-container {/* jupyter's `normalize.less` sets `[hidden] { display: none; }` but bootstrap.min.css set `[hidden] { display: none !important; }` so we also need the `!important` here to be able to override the default hidden behavior on the sphinx rendered scikit-learn.org. See: https://github.com/scikit-learn/scikit-learn/issues/21755 */display: inline-block !important;position: relative;}#sk-container-id-3 div.sk-text-repr-fallback {display: none;}</style><div id=\"sk-container-id-3\" class=\"sk-top-container\"><div class=\"sk-text-repr-fallback\"><pre>KMeans(n_clusters=6, n_init=10)</pre><b>In a Jupyter environment, please rerun this cell to show the HTML representation or trust the notebook. <br />On GitHub, the HTML representation is unable to render, please try loading this page with nbviewer.org.</b></div><div class=\"sk-container\" hidden><div class=\"sk-item\"><div class=\"sk-estimator sk-toggleable\"><input class=\"sk-toggleable__control sk-hidden--visually\" id=\"sk-estimator-id-3\" type=\"checkbox\" checked><label for=\"sk-estimator-id-3\" class=\"sk-toggleable__label sk-toggleable__label-arrow\">KMeans</label><div class=\"sk-toggleable__content\"><pre>KMeans(n_clusters=6, n_init=10)</pre></div></div></div></div></div>"
      ],
      "text/plain": [
       "KMeans(n_clusters=6, n_init=10)"
      ]
     },
     "execution_count": 50,
     "metadata": {},
     "output_type": "execute_result"
    }
   ],
   "source": [
    "kmeans.fit(claims_clustering[['buildingPropertyValue']])"
   ]
  },
  {
   "cell_type": "code",
   "execution_count": 51,
   "id": "9cc69a78-5760-409f-bcb6-1e2efc2c6f0e",
   "metadata": {
    "tags": []
   },
   "outputs": [
    {
     "data": {
      "text/html": [
       "<style>#sk-container-id-4 {color: black;}#sk-container-id-4 pre{padding: 0;}#sk-container-id-4 div.sk-toggleable {background-color: white;}#sk-container-id-4 label.sk-toggleable__label {cursor: pointer;display: block;width: 100%;margin-bottom: 0;padding: 0.3em;box-sizing: border-box;text-align: center;}#sk-container-id-4 label.sk-toggleable__label-arrow:before {content: \"▸\";float: left;margin-right: 0.25em;color: #696969;}#sk-container-id-4 label.sk-toggleable__label-arrow:hover:before {color: black;}#sk-container-id-4 div.sk-estimator:hover label.sk-toggleable__label-arrow:before {color: black;}#sk-container-id-4 div.sk-toggleable__content {max-height: 0;max-width: 0;overflow: hidden;text-align: left;background-color: #f0f8ff;}#sk-container-id-4 div.sk-toggleable__content pre {margin: 0.2em;color: black;border-radius: 0.25em;background-color: #f0f8ff;}#sk-container-id-4 input.sk-toggleable__control:checked~div.sk-toggleable__content {max-height: 200px;max-width: 100%;overflow: auto;}#sk-container-id-4 input.sk-toggleable__control:checked~label.sk-toggleable__label-arrow:before {content: \"▾\";}#sk-container-id-4 div.sk-estimator input.sk-toggleable__control:checked~label.sk-toggleable__label {background-color: #d4ebff;}#sk-container-id-4 div.sk-label input.sk-toggleable__control:checked~label.sk-toggleable__label {background-color: #d4ebff;}#sk-container-id-4 input.sk-hidden--visually {border: 0;clip: rect(1px 1px 1px 1px);clip: rect(1px, 1px, 1px, 1px);height: 1px;margin: -1px;overflow: hidden;padding: 0;position: absolute;width: 1px;}#sk-container-id-4 div.sk-estimator {font-family: monospace;background-color: #f0f8ff;border: 1px dotted black;border-radius: 0.25em;box-sizing: border-box;margin-bottom: 0.5em;}#sk-container-id-4 div.sk-estimator:hover {background-color: #d4ebff;}#sk-container-id-4 div.sk-parallel-item::after {content: \"\";width: 100%;border-bottom: 1px solid gray;flex-grow: 1;}#sk-container-id-4 div.sk-label:hover label.sk-toggleable__label {background-color: #d4ebff;}#sk-container-id-4 div.sk-serial::before {content: \"\";position: absolute;border-left: 1px solid gray;box-sizing: border-box;top: 0;bottom: 0;left: 50%;z-index: 0;}#sk-container-id-4 div.sk-serial {display: flex;flex-direction: column;align-items: center;background-color: white;padding-right: 0.2em;padding-left: 0.2em;position: relative;}#sk-container-id-4 div.sk-item {position: relative;z-index: 1;}#sk-container-id-4 div.sk-parallel {display: flex;align-items: stretch;justify-content: center;background-color: white;position: relative;}#sk-container-id-4 div.sk-item::before, #sk-container-id-4 div.sk-parallel-item::before {content: \"\";position: absolute;border-left: 1px solid gray;box-sizing: border-box;top: 0;bottom: 0;left: 50%;z-index: -1;}#sk-container-id-4 div.sk-parallel-item {display: flex;flex-direction: column;z-index: 1;position: relative;background-color: white;}#sk-container-id-4 div.sk-parallel-item:first-child::after {align-self: flex-end;width: 50%;}#sk-container-id-4 div.sk-parallel-item:last-child::after {align-self: flex-start;width: 50%;}#sk-container-id-4 div.sk-parallel-item:only-child::after {width: 0;}#sk-container-id-4 div.sk-dashed-wrapped {border: 1px dashed gray;margin: 0 0.4em 0.5em 0.4em;box-sizing: border-box;padding-bottom: 0.4em;background-color: white;}#sk-container-id-4 div.sk-label label {font-family: monospace;font-weight: bold;display: inline-block;line-height: 1.2em;}#sk-container-id-4 div.sk-label-container {text-align: center;}#sk-container-id-4 div.sk-container {/* jupyter's `normalize.less` sets `[hidden] { display: none; }` but bootstrap.min.css set `[hidden] { display: none !important; }` so we also need the `!important` here to be able to override the default hidden behavior on the sphinx rendered scikit-learn.org. See: https://github.com/scikit-learn/scikit-learn/issues/21755 */display: inline-block !important;position: relative;}#sk-container-id-4 div.sk-text-repr-fallback {display: none;}</style><div id=\"sk-container-id-4\" class=\"sk-top-container\"><div class=\"sk-text-repr-fallback\"><pre>KMeans(n_clusters=6, n_init=10)</pre><b>In a Jupyter environment, please rerun this cell to show the HTML representation or trust the notebook. <br />On GitHub, the HTML representation is unable to render, please try loading this page with nbviewer.org.</b></div><div class=\"sk-container\" hidden><div class=\"sk-item\"><div class=\"sk-estimator sk-toggleable\"><input class=\"sk-toggleable__control sk-hidden--visually\" id=\"sk-estimator-id-4\" type=\"checkbox\" checked><label for=\"sk-estimator-id-4\" class=\"sk-toggleable__label sk-toggleable__label-arrow\">KMeans</label><div class=\"sk-toggleable__content\"><pre>KMeans(n_clusters=6, n_init=10)</pre></div></div></div></div></div>"
      ],
      "text/plain": [
       "KMeans(n_clusters=6, n_init=10)"
      ]
     },
     "execution_count": 51,
     "metadata": {},
     "output_type": "execute_result"
    }
   ],
   "source": [
    "claims_scaled = scaler.fit_transform(claims_clustering[['buildingPropertyValue', 'buildingDamageAmount']])\n",
    "kmeans.fit(claims_scaled)"
   ]
  },
  {
   "cell_type": "code",
   "execution_count": 52,
   "id": "b0cf8868-d49e-47b1-91b3-eea8fac63588",
   "metadata": {
    "tags": []
   },
   "outputs": [],
   "source": [
    "claims_clustering['label'] = kmeans.labels_"
   ]
  },
  {
   "cell_type": "code",
   "execution_count": 53,
   "id": "f80f8164-7215-4aa6-aa7c-7c5e059e331a",
   "metadata": {
    "tags": []
   },
   "outputs": [
    {
     "data": {
      "text/plain": [
       "label\n",
       "0    97125\n",
       "1       23\n",
       "2      616\n",
       "3       47\n",
       "4    30786\n",
       "5     5241\n",
       "dtype: int64"
      ]
     },
     "execution_count": 53,
     "metadata": {},
     "output_type": "execute_result"
    }
   ],
   "source": [
    "claims_clustering.groupby('label').size()"
   ]
  },
  {
   "cell_type": "code",
   "execution_count": 48,
   "id": "328ee7c2-5b4d-4a69-bf56-304bfa74c679",
   "metadata": {
    "tags": []
   },
   "outputs": [
    {
     "ename": "ValueError",
     "evalue": "could not convert string to float: '2012-10-29T00:00:00.000Z'",
     "output_type": "error",
     "traceback": [
      "\u001b[1;31m---------------------------------------------------------------------------\u001b[0m",
      "\u001b[1;31mValueError\u001b[0m                                Traceback (most recent call last)",
      "\u001b[1;32m~\\AppData\\Local\\Temp\\ipykernel_20776\\4194367786.py\u001b[0m in \u001b[0;36m?\u001b[1;34m()\u001b[0m\n\u001b[0;32m      6\u001b[0m \u001b[1;32mfor\u001b[0m \u001b[0mk\u001b[0m \u001b[1;32min\u001b[0m \u001b[0mn_clusters\u001b[0m\u001b[1;33m:\u001b[0m\u001b[1;33m\u001b[0m\u001b[1;33m\u001b[0m\u001b[0m\n\u001b[0;32m      7\u001b[0m \u001b[1;33m\u001b[0m\u001b[0m\n\u001b[0;32m      8\u001b[0m     \u001b[1;31m# Initialize and run\u001b[0m\u001b[1;33m\u001b[0m\u001b[1;33m\u001b[0m\u001b[0m\n\u001b[0;32m      9\u001b[0m     \u001b[0mkmeans\u001b[0m \u001b[1;33m=\u001b[0m \u001b[0mKMeans\u001b[0m\u001b[1;33m(\u001b[0m\u001b[0mn_clusters\u001b[0m\u001b[1;33m=\u001b[0m\u001b[0mk\u001b[0m\u001b[1;33m,\u001b[0m \u001b[0mn_init\u001b[0m\u001b[1;33m=\u001b[0m\u001b[1;36m10\u001b[0m\u001b[1;33m)\u001b[0m\u001b[1;33m\u001b[0m\u001b[1;33m\u001b[0m\u001b[0m\n\u001b[1;32m---> 10\u001b[1;33m     \u001b[0mkmeans\u001b[0m\u001b[1;33m.\u001b[0m\u001b[0mfit\u001b[0m\u001b[1;33m(\u001b[0m\u001b[0mclaims_clustering\u001b[0m\u001b[1;33m)\u001b[0m\u001b[1;33m\u001b[0m\u001b[1;33m\u001b[0m\u001b[0m\n\u001b[0m\u001b[0;32m     11\u001b[0m \u001b[1;33m\u001b[0m\u001b[0m\n\u001b[0;32m     12\u001b[0m     \u001b[1;31m# Save the \"inertia\"\u001b[0m\u001b[1;33m\u001b[0m\u001b[1;33m\u001b[0m\u001b[0m\n\u001b[0;32m     13\u001b[0m     \u001b[0minertias\u001b[0m\u001b[1;33m.\u001b[0m\u001b[0mappend\u001b[0m\u001b[1;33m(\u001b[0m\u001b[0mkmeans\u001b[0m\u001b[1;33m.\u001b[0m\u001b[0minertia_\u001b[0m\u001b[1;33m)\u001b[0m\u001b[1;33m\u001b[0m\u001b[1;33m\u001b[0m\u001b[0m\n",
      "\u001b[1;32m~\\mambaforge\\envs\\musa-550-fall-2023\\lib\\site-packages\\sklearn\\base.py\u001b[0m in \u001b[0;36m?\u001b[1;34m(estimator, *args, **kwargs)\u001b[0m\n\u001b[0;32m   1147\u001b[0m                 skip_parameter_validation=(\n\u001b[0;32m   1148\u001b[0m                     \u001b[0mprefer_skip_nested_validation\u001b[0m \u001b[1;32mor\u001b[0m \u001b[0mglobal_skip_validation\u001b[0m\u001b[1;33m\u001b[0m\u001b[1;33m\u001b[0m\u001b[0m\n\u001b[0;32m   1149\u001b[0m                 )\n\u001b[0;32m   1150\u001b[0m             ):\n\u001b[1;32m-> 1151\u001b[1;33m                 \u001b[1;32mreturn\u001b[0m \u001b[0mfit_method\u001b[0m\u001b[1;33m(\u001b[0m\u001b[0mestimator\u001b[0m\u001b[1;33m,\u001b[0m \u001b[1;33m*\u001b[0m\u001b[0margs\u001b[0m\u001b[1;33m,\u001b[0m \u001b[1;33m**\u001b[0m\u001b[0mkwargs\u001b[0m\u001b[1;33m)\u001b[0m\u001b[1;33m\u001b[0m\u001b[1;33m\u001b[0m\u001b[0m\n\u001b[0m",
      "\u001b[1;32m~\\mambaforge\\envs\\musa-550-fall-2023\\lib\\site-packages\\sklearn\\cluster\\_kmeans.py\u001b[0m in \u001b[0;36m?\u001b[1;34m(self, X, y, sample_weight)\u001b[0m\n\u001b[0;32m   1467\u001b[0m         \u001b[1;33m-\u001b[0m\u001b[1;33m-\u001b[0m\u001b[1;33m-\u001b[0m\u001b[1;33m-\u001b[0m\u001b[1;33m-\u001b[0m\u001b[1;33m-\u001b[0m\u001b[1;33m-\u001b[0m\u001b[1;33m\u001b[0m\u001b[1;33m\u001b[0m\u001b[0m\n\u001b[0;32m   1468\u001b[0m         \u001b[0mself\u001b[0m \u001b[1;33m:\u001b[0m \u001b[0mobject\u001b[0m\u001b[1;33m\u001b[0m\u001b[1;33m\u001b[0m\u001b[0m\n\u001b[0;32m   1469\u001b[0m             \u001b[0mFitted\u001b[0m \u001b[0mestimator\u001b[0m\u001b[1;33m.\u001b[0m\u001b[1;33m\u001b[0m\u001b[1;33m\u001b[0m\u001b[0m\n\u001b[0;32m   1470\u001b[0m         \"\"\"\n\u001b[1;32m-> 1471\u001b[1;33m         X = self._validate_data(\n\u001b[0m\u001b[0;32m   1472\u001b[0m             \u001b[0mX\u001b[0m\u001b[1;33m,\u001b[0m\u001b[1;33m\u001b[0m\u001b[1;33m\u001b[0m\u001b[0m\n\u001b[0;32m   1473\u001b[0m             \u001b[0maccept_sparse\u001b[0m\u001b[1;33m=\u001b[0m\u001b[1;34m\"csr\"\u001b[0m\u001b[1;33m,\u001b[0m\u001b[1;33m\u001b[0m\u001b[1;33m\u001b[0m\u001b[0m\n\u001b[0;32m   1474\u001b[0m             \u001b[0mdtype\u001b[0m\u001b[1;33m=\u001b[0m\u001b[1;33m[\u001b[0m\u001b[0mnp\u001b[0m\u001b[1;33m.\u001b[0m\u001b[0mfloat64\u001b[0m\u001b[1;33m,\u001b[0m \u001b[0mnp\u001b[0m\u001b[1;33m.\u001b[0m\u001b[0mfloat32\u001b[0m\u001b[1;33m]\u001b[0m\u001b[1;33m,\u001b[0m\u001b[1;33m\u001b[0m\u001b[1;33m\u001b[0m\u001b[0m\n",
      "\u001b[1;32m~\\mambaforge\\envs\\musa-550-fall-2023\\lib\\site-packages\\sklearn\\base.py\u001b[0m in \u001b[0;36m?\u001b[1;34m(self, X, y, reset, validate_separately, cast_to_ndarray, **check_params)\u001b[0m\n\u001b[0;32m    600\u001b[0m                 \u001b[0mout\u001b[0m \u001b[1;33m=\u001b[0m \u001b[0my\u001b[0m\u001b[1;33m\u001b[0m\u001b[1;33m\u001b[0m\u001b[0m\n\u001b[0;32m    601\u001b[0m             \u001b[1;32melse\u001b[0m\u001b[1;33m:\u001b[0m\u001b[1;33m\u001b[0m\u001b[1;33m\u001b[0m\u001b[0m\n\u001b[0;32m    602\u001b[0m                 \u001b[0mout\u001b[0m \u001b[1;33m=\u001b[0m \u001b[0mX\u001b[0m\u001b[1;33m,\u001b[0m \u001b[0my\u001b[0m\u001b[1;33m\u001b[0m\u001b[1;33m\u001b[0m\u001b[0m\n\u001b[0;32m    603\u001b[0m         \u001b[1;32melif\u001b[0m \u001b[1;32mnot\u001b[0m \u001b[0mno_val_X\u001b[0m \u001b[1;32mand\u001b[0m \u001b[0mno_val_y\u001b[0m\u001b[1;33m:\u001b[0m\u001b[1;33m\u001b[0m\u001b[1;33m\u001b[0m\u001b[0m\n\u001b[1;32m--> 604\u001b[1;33m             \u001b[0mout\u001b[0m \u001b[1;33m=\u001b[0m \u001b[0mcheck_array\u001b[0m\u001b[1;33m(\u001b[0m\u001b[0mX\u001b[0m\u001b[1;33m,\u001b[0m \u001b[0minput_name\u001b[0m\u001b[1;33m=\u001b[0m\u001b[1;34m\"X\"\u001b[0m\u001b[1;33m,\u001b[0m \u001b[1;33m**\u001b[0m\u001b[0mcheck_params\u001b[0m\u001b[1;33m)\u001b[0m\u001b[1;33m\u001b[0m\u001b[1;33m\u001b[0m\u001b[0m\n\u001b[0m\u001b[0;32m    605\u001b[0m         \u001b[1;32melif\u001b[0m \u001b[0mno_val_X\u001b[0m \u001b[1;32mand\u001b[0m \u001b[1;32mnot\u001b[0m \u001b[0mno_val_y\u001b[0m\u001b[1;33m:\u001b[0m\u001b[1;33m\u001b[0m\u001b[1;33m\u001b[0m\u001b[0m\n\u001b[0;32m    606\u001b[0m             \u001b[0mout\u001b[0m \u001b[1;33m=\u001b[0m \u001b[0m_check_y\u001b[0m\u001b[1;33m(\u001b[0m\u001b[0my\u001b[0m\u001b[1;33m,\u001b[0m \u001b[1;33m**\u001b[0m\u001b[0mcheck_params\u001b[0m\u001b[1;33m)\u001b[0m\u001b[1;33m\u001b[0m\u001b[1;33m\u001b[0m\u001b[0m\n\u001b[0;32m    607\u001b[0m         \u001b[1;32melse\u001b[0m\u001b[1;33m:\u001b[0m\u001b[1;33m\u001b[0m\u001b[1;33m\u001b[0m\u001b[0m\n",
      "\u001b[1;32m~\\mambaforge\\envs\\musa-550-fall-2023\\lib\\site-packages\\sklearn\\utils\\validation.py\u001b[0m in \u001b[0;36m?\u001b[1;34m(array, accept_sparse, accept_large_sparse, dtype, order, copy, force_all_finite, ensure_2d, allow_nd, ensure_min_samples, ensure_min_features, estimator, input_name)\u001b[0m\n\u001b[0;32m    914\u001b[0m                         )\n\u001b[0;32m    915\u001b[0m                     \u001b[0marray\u001b[0m \u001b[1;33m=\u001b[0m \u001b[0mxp\u001b[0m\u001b[1;33m.\u001b[0m\u001b[0mastype\u001b[0m\u001b[1;33m(\u001b[0m\u001b[0marray\u001b[0m\u001b[1;33m,\u001b[0m \u001b[0mdtype\u001b[0m\u001b[1;33m,\u001b[0m \u001b[0mcopy\u001b[0m\u001b[1;33m=\u001b[0m\u001b[1;32mFalse\u001b[0m\u001b[1;33m)\u001b[0m\u001b[1;33m\u001b[0m\u001b[1;33m\u001b[0m\u001b[0m\n\u001b[0;32m    916\u001b[0m                 \u001b[1;32melse\u001b[0m\u001b[1;33m:\u001b[0m\u001b[1;33m\u001b[0m\u001b[1;33m\u001b[0m\u001b[0m\n\u001b[0;32m    917\u001b[0m                     \u001b[0marray\u001b[0m \u001b[1;33m=\u001b[0m \u001b[0m_asarray_with_order\u001b[0m\u001b[1;33m(\u001b[0m\u001b[0marray\u001b[0m\u001b[1;33m,\u001b[0m \u001b[0morder\u001b[0m\u001b[1;33m=\u001b[0m\u001b[0morder\u001b[0m\u001b[1;33m,\u001b[0m \u001b[0mdtype\u001b[0m\u001b[1;33m=\u001b[0m\u001b[0mdtype\u001b[0m\u001b[1;33m,\u001b[0m \u001b[0mxp\u001b[0m\u001b[1;33m=\u001b[0m\u001b[0mxp\u001b[0m\u001b[1;33m)\u001b[0m\u001b[1;33m\u001b[0m\u001b[1;33m\u001b[0m\u001b[0m\n\u001b[1;32m--> 918\u001b[1;33m             \u001b[1;32mexcept\u001b[0m \u001b[0mComplexWarning\u001b[0m \u001b[1;32mas\u001b[0m \u001b[0mcomplex_warning\u001b[0m\u001b[1;33m:\u001b[0m\u001b[1;33m\u001b[0m\u001b[1;33m\u001b[0m\u001b[0m\n\u001b[0m\u001b[0;32m    919\u001b[0m                 raise ValueError(\n\u001b[0;32m    920\u001b[0m                     \u001b[1;34m\"Complex data not supported\\n{}\\n\"\u001b[0m\u001b[1;33m.\u001b[0m\u001b[0mformat\u001b[0m\u001b[1;33m(\u001b[0m\u001b[0marray\u001b[0m\u001b[1;33m)\u001b[0m\u001b[1;33m\u001b[0m\u001b[1;33m\u001b[0m\u001b[0m\n\u001b[0;32m    921\u001b[0m                 ) from complex_warning\n",
      "\u001b[1;32m~\\mambaforge\\envs\\musa-550-fall-2023\\lib\\site-packages\\sklearn\\utils\\_array_api.py\u001b[0m in \u001b[0;36m?\u001b[1;34m(array, dtype, order, copy, xp)\u001b[0m\n\u001b[0;32m    376\u001b[0m         \u001b[1;31m# Use NumPy API to support order\u001b[0m\u001b[1;33m\u001b[0m\u001b[1;33m\u001b[0m\u001b[0m\n\u001b[0;32m    377\u001b[0m         \u001b[1;32mif\u001b[0m \u001b[0mcopy\u001b[0m \u001b[1;32mis\u001b[0m \u001b[1;32mTrue\u001b[0m\u001b[1;33m:\u001b[0m\u001b[1;33m\u001b[0m\u001b[1;33m\u001b[0m\u001b[0m\n\u001b[0;32m    378\u001b[0m             \u001b[0marray\u001b[0m \u001b[1;33m=\u001b[0m \u001b[0mnumpy\u001b[0m\u001b[1;33m.\u001b[0m\u001b[0marray\u001b[0m\u001b[1;33m(\u001b[0m\u001b[0marray\u001b[0m\u001b[1;33m,\u001b[0m \u001b[0morder\u001b[0m\u001b[1;33m=\u001b[0m\u001b[0morder\u001b[0m\u001b[1;33m,\u001b[0m \u001b[0mdtype\u001b[0m\u001b[1;33m=\u001b[0m\u001b[0mdtype\u001b[0m\u001b[1;33m)\u001b[0m\u001b[1;33m\u001b[0m\u001b[1;33m\u001b[0m\u001b[0m\n\u001b[0;32m    379\u001b[0m         \u001b[1;32melse\u001b[0m\u001b[1;33m:\u001b[0m\u001b[1;33m\u001b[0m\u001b[1;33m\u001b[0m\u001b[0m\n\u001b[1;32m--> 380\u001b[1;33m             \u001b[0marray\u001b[0m \u001b[1;33m=\u001b[0m \u001b[0mnumpy\u001b[0m\u001b[1;33m.\u001b[0m\u001b[0masarray\u001b[0m\u001b[1;33m(\u001b[0m\u001b[0marray\u001b[0m\u001b[1;33m,\u001b[0m \u001b[0morder\u001b[0m\u001b[1;33m=\u001b[0m\u001b[0morder\u001b[0m\u001b[1;33m,\u001b[0m \u001b[0mdtype\u001b[0m\u001b[1;33m=\u001b[0m\u001b[0mdtype\u001b[0m\u001b[1;33m)\u001b[0m\u001b[1;33m\u001b[0m\u001b[1;33m\u001b[0m\u001b[0m\n\u001b[0m\u001b[0;32m    381\u001b[0m \u001b[1;33m\u001b[0m\u001b[0m\n\u001b[0;32m    382\u001b[0m         \u001b[1;31m# At this point array is a NumPy ndarray. We convert it to an array\u001b[0m\u001b[1;33m\u001b[0m\u001b[1;33m\u001b[0m\u001b[0m\n\u001b[0;32m    383\u001b[0m         \u001b[1;31m# container that is consistent with the input's namespace.\u001b[0m\u001b[1;33m\u001b[0m\u001b[1;33m\u001b[0m\u001b[0m\n",
      "\u001b[1;32m~\\mambaforge\\envs\\musa-550-fall-2023\\lib\\site-packages\\pandas\\core\\generic.py\u001b[0m in \u001b[0;36m?\u001b[1;34m(self, dtype)\u001b[0m\n\u001b[0;32m   2069\u001b[0m     \u001b[1;32mdef\u001b[0m \u001b[0m__array__\u001b[0m\u001b[1;33m(\u001b[0m\u001b[0mself\u001b[0m\u001b[1;33m,\u001b[0m \u001b[0mdtype\u001b[0m\u001b[1;33m:\u001b[0m \u001b[0mnpt\u001b[0m\u001b[1;33m.\u001b[0m\u001b[0mDTypeLike\u001b[0m \u001b[1;33m|\u001b[0m \u001b[1;32mNone\u001b[0m \u001b[1;33m=\u001b[0m \u001b[1;32mNone\u001b[0m\u001b[1;33m)\u001b[0m \u001b[1;33m->\u001b[0m \u001b[0mnp\u001b[0m\u001b[1;33m.\u001b[0m\u001b[0mndarray\u001b[0m\u001b[1;33m:\u001b[0m\u001b[1;33m\u001b[0m\u001b[1;33m\u001b[0m\u001b[0m\n\u001b[1;32m-> 2070\u001b[1;33m         \u001b[1;32mreturn\u001b[0m \u001b[0mnp\u001b[0m\u001b[1;33m.\u001b[0m\u001b[0masarray\u001b[0m\u001b[1;33m(\u001b[0m\u001b[0mself\u001b[0m\u001b[1;33m.\u001b[0m\u001b[0m_values\u001b[0m\u001b[1;33m,\u001b[0m \u001b[0mdtype\u001b[0m\u001b[1;33m=\u001b[0m\u001b[0mdtype\u001b[0m\u001b[1;33m)\u001b[0m\u001b[1;33m\u001b[0m\u001b[1;33m\u001b[0m\u001b[0m\n\u001b[0m",
      "\u001b[1;31mValueError\u001b[0m: could not convert string to float: '2012-10-29T00:00:00.000Z'"
     ]
    }
   ],
   "source": [
    "# Number of clusters to try out\n",
    "n_clusters = list(range(2, 10))\n",
    "\n",
    "# Run kmeans for each value of k\n",
    "inertias = []\n",
    "for k in n_clusters:\n",
    "    \n",
    "    # Initialize and run\n",
    "    kmeans = KMeans(n_clusters=k, n_init=10)\n",
    "    kmeans.fit(claims_clustering)\n",
    "    \n",
    "    # Save the \"inertia\"\n",
    "    inertias.append(kmeans.inertia_)\n",
    "    \n",
    "# Plot it!\n",
    "plt.plot(n_clusters, inertias, marker='o', ms=10, mfc='white', lw=4, mew=3);"
   ]
  },
  {
   "cell_type": "code",
   "execution_count": 83,
   "id": "227598c4-a828-4588-9747-2d1fcf8fdebe",
   "metadata": {
    "tags": []
   },
   "outputs": [
    {
     "name": "stdout",
     "output_type": "stream",
     "text": [
      "Using FIPS code '34' for input 'NJ'\n"
     ]
    }
   ],
   "source": [
    "NJ_counties = pygris.counties(\n",
    "    state=\"NJ\", year=2021\n",
    ")"
   ]
  },
  {
   "cell_type": "code",
   "execution_count": 95,
   "id": "0a5cd20c-54b0-4b47-8ebd-52f434e1c294",
   "metadata": {
    "tags": []
   },
   "outputs": [
    {
     "data": {
      "text/html": [
       "<div>\n",
       "<style scoped>\n",
       "    .dataframe tbody tr th:only-of-type {\n",
       "        vertical-align: middle;\n",
       "    }\n",
       "\n",
       "    .dataframe tbody tr th {\n",
       "        vertical-align: top;\n",
       "    }\n",
       "\n",
       "    .dataframe thead th {\n",
       "        text-align: right;\n",
       "    }\n",
       "</style>\n",
       "<table border=\"1\" class=\"dataframe\">\n",
       "  <thead>\n",
       "    <tr style=\"text-align: right;\">\n",
       "      <th></th>\n",
       "      <th>STATEFP</th>\n",
       "      <th>COUNTYFP</th>\n",
       "      <th>COUNTYNS</th>\n",
       "      <th>GEOID</th>\n",
       "      <th>NAME</th>\n",
       "      <th>NAMELSAD</th>\n",
       "      <th>LSAD</th>\n",
       "      <th>CLASSFP</th>\n",
       "      <th>MTFCC</th>\n",
       "      <th>CSAFP</th>\n",
       "      <th>CBSAFP</th>\n",
       "      <th>METDIVFP</th>\n",
       "      <th>FUNCSTAT</th>\n",
       "      <th>ALAND</th>\n",
       "      <th>AWATER</th>\n",
       "      <th>INTPTLAT</th>\n",
       "      <th>INTPTLON</th>\n",
       "      <th>geometry</th>\n",
       "    </tr>\n",
       "  </thead>\n",
       "  <tbody>\n",
       "    <tr>\n",
       "      <th>111</th>\n",
       "      <td>34</td>\n",
       "      <td>037</td>\n",
       "      <td>00882236</td>\n",
       "      <td>34037</td>\n",
       "      <td>Sussex</td>\n",
       "      <td>Sussex County</td>\n",
       "      <td>06</td>\n",
       "      <td>H1</td>\n",
       "      <td>G4020</td>\n",
       "      <td>408</td>\n",
       "      <td>35620</td>\n",
       "      <td>35084</td>\n",
       "      <td>A</td>\n",
       "      <td>1343330731</td>\n",
       "      <td>43707483</td>\n",
       "      <td>+41.1374609</td>\n",
       "      <td>-074.6919141</td>\n",
       "      <td>POLYGON ((-74.48244 41.10358, -74.48263 41.103...</td>\n",
       "    </tr>\n",
       "    <tr>\n",
       "      <th>212</th>\n",
       "      <td>34</td>\n",
       "      <td>007</td>\n",
       "      <td>00882273</td>\n",
       "      <td>34007</td>\n",
       "      <td>Camden</td>\n",
       "      <td>Camden County</td>\n",
       "      <td>06</td>\n",
       "      <td>H1</td>\n",
       "      <td>G4020</td>\n",
       "      <td>428</td>\n",
       "      <td>37980</td>\n",
       "      <td>15804</td>\n",
       "      <td>A</td>\n",
       "      <td>573325497</td>\n",
       "      <td>15688953</td>\n",
       "      <td>+39.8024071</td>\n",
       "      <td>-074.9612493</td>\n",
       "      <td>POLYGON ((-74.90237 39.79104, -74.90207 39.790...</td>\n",
       "    </tr>\n",
       "    <tr>\n",
       "      <th>476</th>\n",
       "      <td>34</td>\n",
       "      <td>039</td>\n",
       "      <td>00882235</td>\n",
       "      <td>34039</td>\n",
       "      <td>Union</td>\n",
       "      <td>Union County</td>\n",
       "      <td>06</td>\n",
       "      <td>H1</td>\n",
       "      <td>G4020</td>\n",
       "      <td>408</td>\n",
       "      <td>35620</td>\n",
       "      <td>35084</td>\n",
       "      <td>A</td>\n",
       "      <td>266163567</td>\n",
       "      <td>6847407</td>\n",
       "      <td>+40.6598707</td>\n",
       "      <td>-074.3086957</td>\n",
       "      <td>POLYGON ((-74.20067 40.63290, -74.20240 40.631...</td>\n",
       "    </tr>\n",
       "    <tr>\n",
       "      <th>839</th>\n",
       "      <td>34</td>\n",
       "      <td>009</td>\n",
       "      <td>00882274</td>\n",
       "      <td>34009</td>\n",
       "      <td>Cape May</td>\n",
       "      <td>Cape May County</td>\n",
       "      <td>06</td>\n",
       "      <td>H1</td>\n",
       "      <td>G4020</td>\n",
       "      <td>428</td>\n",
       "      <td>36140</td>\n",
       "      <td>NaN</td>\n",
       "      <td>A</td>\n",
       "      <td>651437935</td>\n",
       "      <td>955149083</td>\n",
       "      <td>+39.0858411</td>\n",
       "      <td>-074.8463541</td>\n",
       "      <td>POLYGON ((-74.54044 39.29945, -74.54012 39.299...</td>\n",
       "    </tr>\n",
       "    <tr>\n",
       "      <th>914</th>\n",
       "      <td>34</td>\n",
       "      <td>005</td>\n",
       "      <td>00882272</td>\n",
       "      <td>34005</td>\n",
       "      <td>Burlington</td>\n",
       "      <td>Burlington County</td>\n",
       "      <td>06</td>\n",
       "      <td>H1</td>\n",
       "      <td>G4020</td>\n",
       "      <td>428</td>\n",
       "      <td>37980</td>\n",
       "      <td>15804</td>\n",
       "      <td>A</td>\n",
       "      <td>2070137466</td>\n",
       "      <td>54133685</td>\n",
       "      <td>+39.8757858</td>\n",
       "      <td>-074.6630063</td>\n",
       "      <td>POLYGON ((-74.47024 39.92253, -74.47010 39.922...</td>\n",
       "    </tr>\n",
       "  </tbody>\n",
       "</table>\n",
       "</div>"
      ],
      "text/plain": [
       "    STATEFP COUNTYFP  COUNTYNS  GEOID        NAME           NAMELSAD LSAD  \\\n",
       "111      34      037  00882236  34037      Sussex      Sussex County   06   \n",
       "212      34      007  00882273  34007      Camden      Camden County   06   \n",
       "476      34      039  00882235  34039       Union       Union County   06   \n",
       "839      34      009  00882274  34009    Cape May    Cape May County   06   \n",
       "914      34      005  00882272  34005  Burlington  Burlington County   06   \n",
       "\n",
       "    CLASSFP  MTFCC CSAFP CBSAFP METDIVFP FUNCSTAT       ALAND     AWATER  \\\n",
       "111      H1  G4020   408  35620    35084        A  1343330731   43707483   \n",
       "212      H1  G4020   428  37980    15804        A   573325497   15688953   \n",
       "476      H1  G4020   408  35620    35084        A   266163567    6847407   \n",
       "839      H1  G4020   428  36140      NaN        A   651437935  955149083   \n",
       "914      H1  G4020   428  37980    15804        A  2070137466   54133685   \n",
       "\n",
       "        INTPTLAT      INTPTLON  \\\n",
       "111  +41.1374609  -074.6919141   \n",
       "212  +39.8024071  -074.9612493   \n",
       "476  +40.6598707  -074.3086957   \n",
       "839  +39.0858411  -074.8463541   \n",
       "914  +39.8757858  -074.6630063   \n",
       "\n",
       "                                              geometry  \n",
       "111  POLYGON ((-74.48244 41.10358, -74.48263 41.103...  \n",
       "212  POLYGON ((-74.90237 39.79104, -74.90207 39.790...  \n",
       "476  POLYGON ((-74.20067 40.63290, -74.20240 40.631...  \n",
       "839  POLYGON ((-74.54044 39.29945, -74.54012 39.299...  \n",
       "914  POLYGON ((-74.47024 39.92253, -74.47010 39.922...  "
      ]
     },
     "execution_count": 95,
     "metadata": {},
     "output_type": "execute_result"
    }
   ],
   "source": [
    "NJ_counties.head()"
   ]
  },
  {
   "cell_type": "code",
   "execution_count": 93,
   "id": "02c7af19-4d3d-4d44-aa1c-e2d735d4330a",
   "metadata": {
    "tags": []
   },
   "outputs": [
    {
     "name": "stdout",
     "output_type": "stream",
     "text": [
      "Using FIPS code '34' for input 'NJ'\n"
     ]
    }
   ],
   "source": [
    "NJ_tracts = pygris.tracts(\n",
    "    state=\"NJ\", year=2021\n",
    ")"
   ]
  },
  {
   "cell_type": "code",
   "execution_count": 94,
   "id": "cce5b2c3-e889-4771-8ca4-0fa63ed69469",
   "metadata": {
    "tags": []
   },
   "outputs": [
    {
     "name": "stdout",
     "output_type": "stream",
     "text": [
      "Using FIPS code '34' for input 'NJ'\n"
     ]
    }
   ],
   "source": [
    "NJ_block_groups = pygris.block_groups(\n",
    "    state=\"NJ\", year=2021\n",
    ")"
   ]
  },
  {
   "cell_type": "code",
   "execution_count": 113,
   "id": "beede3c1-ff99-4fb2-8836-96627e78450e",
   "metadata": {
    "tags": []
   },
   "outputs": [],
   "source": [
    "claims_NJ = pd.read_csv(\"data/claims_NJ.csv\")\n",
    "\n",
    "claims_NJ['countyCode'] = claims_NJ['countyCode'].astype(str).str.rstrip('.0')\n",
    "claims_NJ['censusTract'] = claims_NJ['censusTract'].astype(str).str.rstrip('.0')\n",
    "claims_NJ['censusBlockGroupFips'] = claims_NJ['censusBlockGroupFips'].astype(str).str.rstrip('.0')\n",
    "\n",
    "claims_NJ['observation'] = 1\n"
   ]
  },
  {
   "cell_type": "code",
   "execution_count": 114,
   "id": "2e085c29-826d-4a1c-a2d7-8d9a196ca327",
   "metadata": {
    "tags": []
   },
   "outputs": [
    {
     "data": {
      "text/html": [
       "<div>\n",
       "<style scoped>\n",
       "    .dataframe tbody tr th:only-of-type {\n",
       "        vertical-align: middle;\n",
       "    }\n",
       "\n",
       "    .dataframe tbody tr th {\n",
       "        vertical-align: top;\n",
       "    }\n",
       "\n",
       "    .dataframe thead th {\n",
       "        text-align: right;\n",
       "    }\n",
       "</style>\n",
       "<table border=\"1\" class=\"dataframe\">\n",
       "  <thead>\n",
       "    <tr style=\"text-align: right;\">\n",
       "      <th></th>\n",
       "      <th>countyCode</th>\n",
       "      <th>yearOfLoss</th>\n",
       "      <th>sum_amountPaidOnBuildingClaim</th>\n",
       "      <th>mean_amountPaidOnBuildingClaim</th>\n",
       "      <th>sum_amountPaidOnContentsClaim</th>\n",
       "      <th>mean_amountPaidOnContentsClaim</th>\n",
       "      <th>observations</th>\n",
       "    </tr>\n",
       "  </thead>\n",
       "  <tbody>\n",
       "    <tr>\n",
       "      <th>0</th>\n",
       "      <td>34001</td>\n",
       "      <td>1995</td>\n",
       "      <td>297625.800</td>\n",
       "      <td>14172.657</td>\n",
       "      <td>101918.720</td>\n",
       "      <td>4853.272</td>\n",
       "      <td>38</td>\n",
       "    </tr>\n",
       "    <tr>\n",
       "      <th>1</th>\n",
       "      <td>34001</td>\n",
       "      <td>1996</td>\n",
       "      <td>665885.080</td>\n",
       "      <td>10740.082</td>\n",
       "      <td>251316.480</td>\n",
       "      <td>4053.492</td>\n",
       "      <td>109</td>\n",
       "    </tr>\n",
       "    <tr>\n",
       "      <th>2</th>\n",
       "      <td>34001</td>\n",
       "      <td>1997</td>\n",
       "      <td>1306108.120</td>\n",
       "      <td>10203.970</td>\n",
       "      <td>401252.810</td>\n",
       "      <td>3134.788</td>\n",
       "      <td>171</td>\n",
       "    </tr>\n",
       "    <tr>\n",
       "      <th>3</th>\n",
       "      <td>34001</td>\n",
       "      <td>1998</td>\n",
       "      <td>1894420.240</td>\n",
       "      <td>6839.062</td>\n",
       "      <td>449247.510</td>\n",
       "      <td>1621.832</td>\n",
       "      <td>399</td>\n",
       "    </tr>\n",
       "    <tr>\n",
       "      <th>4</th>\n",
       "      <td>34001</td>\n",
       "      <td>1999</td>\n",
       "      <td>214271.230</td>\n",
       "      <td>9316.140</td>\n",
       "      <td>21865.930</td>\n",
       "      <td>950.693</td>\n",
       "      <td>39</td>\n",
       "    </tr>\n",
       "  </tbody>\n",
       "</table>\n",
       "</div>"
      ],
      "text/plain": [
       "  countyCode  yearOfLoss  sum_amountPaidOnBuildingClaim  \\\n",
       "0      34001        1995                     297625.800   \n",
       "1      34001        1996                     665885.080   \n",
       "2      34001        1997                    1306108.120   \n",
       "3      34001        1998                    1894420.240   \n",
       "4      34001        1999                     214271.230   \n",
       "\n",
       "   mean_amountPaidOnBuildingClaim  sum_amountPaidOnContentsClaim  \\\n",
       "0                       14172.657                     101918.720   \n",
       "1                       10740.082                     251316.480   \n",
       "2                       10203.970                     401252.810   \n",
       "3                        6839.062                     449247.510   \n",
       "4                        9316.140                      21865.930   \n",
       "\n",
       "   mean_amountPaidOnContentsClaim  observations  \n",
       "0                        4853.272            38  \n",
       "1                        4053.492           109  \n",
       "2                        3134.788           171  \n",
       "3                        1621.832           399  \n",
       "4                         950.693            39  "
      ]
     },
     "execution_count": 114,
     "metadata": {},
     "output_type": "execute_result"
    }
   ],
   "source": [
    "agg_functions = {\n",
    "    'amountPaidOnBuildingClaim': ['sum', 'mean'], \n",
    "    'amountPaidOnContentsClaim': ['sum', 'mean'], \n",
    "    'observation': 'sum',\n",
    "}\n",
    "\n",
    "claims_by_county = claims_NJ.groupby([\"countyCode\", \"yearOfLoss\"]).agg(agg_functions).reset_index()\n",
    "\n",
    "claims_by_county.columns = ['countyCode', 'yearOfLoss', 'sum_amountPaidOnBuildingClaim', 'mean_amountPaidOnBuildingClaim', 'sum_amountPaidOnContentsClaim', 'mean_amountPaidOnContentsClaim', 'observations']\n",
    "\n",
    "claims_by_county.head()\n"
   ]
  },
  {
   "cell_type": "code",
   "execution_count": 115,
   "id": "26a90856-caf0-4b2d-b759-a1ee10e1f50e",
   "metadata": {
    "tags": []
   },
   "outputs": [
    {
     "data": {
      "text/html": [
       "<div>\n",
       "<style scoped>\n",
       "    .dataframe tbody tr th:only-of-type {\n",
       "        vertical-align: middle;\n",
       "    }\n",
       "\n",
       "    .dataframe tbody tr th {\n",
       "        vertical-align: top;\n",
       "    }\n",
       "\n",
       "    .dataframe thead th {\n",
       "        text-align: right;\n",
       "    }\n",
       "</style>\n",
       "<table border=\"1\" class=\"dataframe\">\n",
       "  <thead>\n",
       "    <tr style=\"text-align: right;\">\n",
       "      <th></th>\n",
       "      <th>countyCode</th>\n",
       "      <th>yearOfLoss</th>\n",
       "      <th>sum_amountPaidOnBuildingClaim</th>\n",
       "      <th>mean_amountPaidOnBuildingClaim</th>\n",
       "      <th>sum_amountPaidOnContentsClaim</th>\n",
       "      <th>mean_amountPaidOnContentsClaim</th>\n",
       "      <th>observations</th>\n",
       "      <th>STATEFP</th>\n",
       "      <th>COUNTYFP</th>\n",
       "      <th>COUNTYNS</th>\n",
       "      <th>GEOID</th>\n",
       "      <th>NAME</th>\n",
       "      <th>NAMELSAD</th>\n",
       "      <th>LSAD</th>\n",
       "      <th>CLASSFP</th>\n",
       "      <th>MTFCC</th>\n",
       "      <th>CSAFP</th>\n",
       "      <th>CBSAFP</th>\n",
       "      <th>METDIVFP</th>\n",
       "      <th>FUNCSTAT</th>\n",
       "      <th>ALAND</th>\n",
       "      <th>AWATER</th>\n",
       "      <th>INTPTLAT</th>\n",
       "      <th>INTPTLON</th>\n",
       "      <th>geometry</th>\n",
       "    </tr>\n",
       "  </thead>\n",
       "  <tbody>\n",
       "    <tr>\n",
       "      <th>0</th>\n",
       "      <td>34001</td>\n",
       "      <td>1995</td>\n",
       "      <td>297625.800</td>\n",
       "      <td>14172.657</td>\n",
       "      <td>101918.720</td>\n",
       "      <td>4853.272</td>\n",
       "      <td>38</td>\n",
       "      <td>34</td>\n",
       "      <td>001</td>\n",
       "      <td>00882270</td>\n",
       "      <td>34001</td>\n",
       "      <td>Atlantic</td>\n",
       "      <td>Atlantic County</td>\n",
       "      <td>06</td>\n",
       "      <td>H1</td>\n",
       "      <td>G4020</td>\n",
       "      <td>428</td>\n",
       "      <td>12100</td>\n",
       "      <td>NaN</td>\n",
       "      <td>A</td>\n",
       "      <td>1438775279</td>\n",
       "      <td>301270067</td>\n",
       "      <td>+39.4693555</td>\n",
       "      <td>-074.6337591</td>\n",
       "      <td>POLYGON ((-74.58640 39.30989, -74.58665 39.309...</td>\n",
       "    </tr>\n",
       "    <tr>\n",
       "      <th>1</th>\n",
       "      <td>34001</td>\n",
       "      <td>1996</td>\n",
       "      <td>665885.080</td>\n",
       "      <td>10740.082</td>\n",
       "      <td>251316.480</td>\n",
       "      <td>4053.492</td>\n",
       "      <td>109</td>\n",
       "      <td>34</td>\n",
       "      <td>001</td>\n",
       "      <td>00882270</td>\n",
       "      <td>34001</td>\n",
       "      <td>Atlantic</td>\n",
       "      <td>Atlantic County</td>\n",
       "      <td>06</td>\n",
       "      <td>H1</td>\n",
       "      <td>G4020</td>\n",
       "      <td>428</td>\n",
       "      <td>12100</td>\n",
       "      <td>NaN</td>\n",
       "      <td>A</td>\n",
       "      <td>1438775279</td>\n",
       "      <td>301270067</td>\n",
       "      <td>+39.4693555</td>\n",
       "      <td>-074.6337591</td>\n",
       "      <td>POLYGON ((-74.58640 39.30989, -74.58665 39.309...</td>\n",
       "    </tr>\n",
       "    <tr>\n",
       "      <th>2</th>\n",
       "      <td>34001</td>\n",
       "      <td>1997</td>\n",
       "      <td>1306108.120</td>\n",
       "      <td>10203.970</td>\n",
       "      <td>401252.810</td>\n",
       "      <td>3134.788</td>\n",
       "      <td>171</td>\n",
       "      <td>34</td>\n",
       "      <td>001</td>\n",
       "      <td>00882270</td>\n",
       "      <td>34001</td>\n",
       "      <td>Atlantic</td>\n",
       "      <td>Atlantic County</td>\n",
       "      <td>06</td>\n",
       "      <td>H1</td>\n",
       "      <td>G4020</td>\n",
       "      <td>428</td>\n",
       "      <td>12100</td>\n",
       "      <td>NaN</td>\n",
       "      <td>A</td>\n",
       "      <td>1438775279</td>\n",
       "      <td>301270067</td>\n",
       "      <td>+39.4693555</td>\n",
       "      <td>-074.6337591</td>\n",
       "      <td>POLYGON ((-74.58640 39.30989, -74.58665 39.309...</td>\n",
       "    </tr>\n",
       "    <tr>\n",
       "      <th>3</th>\n",
       "      <td>34001</td>\n",
       "      <td>1998</td>\n",
       "      <td>1894420.240</td>\n",
       "      <td>6839.062</td>\n",
       "      <td>449247.510</td>\n",
       "      <td>1621.832</td>\n",
       "      <td>399</td>\n",
       "      <td>34</td>\n",
       "      <td>001</td>\n",
       "      <td>00882270</td>\n",
       "      <td>34001</td>\n",
       "      <td>Atlantic</td>\n",
       "      <td>Atlantic County</td>\n",
       "      <td>06</td>\n",
       "      <td>H1</td>\n",
       "      <td>G4020</td>\n",
       "      <td>428</td>\n",
       "      <td>12100</td>\n",
       "      <td>NaN</td>\n",
       "      <td>A</td>\n",
       "      <td>1438775279</td>\n",
       "      <td>301270067</td>\n",
       "      <td>+39.4693555</td>\n",
       "      <td>-074.6337591</td>\n",
       "      <td>POLYGON ((-74.58640 39.30989, -74.58665 39.309...</td>\n",
       "    </tr>\n",
       "    <tr>\n",
       "      <th>4</th>\n",
       "      <td>34001</td>\n",
       "      <td>1999</td>\n",
       "      <td>214271.230</td>\n",
       "      <td>9316.140</td>\n",
       "      <td>21865.930</td>\n",
       "      <td>950.693</td>\n",
       "      <td>39</td>\n",
       "      <td>34</td>\n",
       "      <td>001</td>\n",
       "      <td>00882270</td>\n",
       "      <td>34001</td>\n",
       "      <td>Atlantic</td>\n",
       "      <td>Atlantic County</td>\n",
       "      <td>06</td>\n",
       "      <td>H1</td>\n",
       "      <td>G4020</td>\n",
       "      <td>428</td>\n",
       "      <td>12100</td>\n",
       "      <td>NaN</td>\n",
       "      <td>A</td>\n",
       "      <td>1438775279</td>\n",
       "      <td>301270067</td>\n",
       "      <td>+39.4693555</td>\n",
       "      <td>-074.6337591</td>\n",
       "      <td>POLYGON ((-74.58640 39.30989, -74.58665 39.309...</td>\n",
       "    </tr>\n",
       "  </tbody>\n",
       "</table>\n",
       "</div>"
      ],
      "text/plain": [
       "  countyCode  yearOfLoss  sum_amountPaidOnBuildingClaim  \\\n",
       "0      34001        1995                     297625.800   \n",
       "1      34001        1996                     665885.080   \n",
       "2      34001        1997                    1306108.120   \n",
       "3      34001        1998                    1894420.240   \n",
       "4      34001        1999                     214271.230   \n",
       "\n",
       "   mean_amountPaidOnBuildingClaim  sum_amountPaidOnContentsClaim  \\\n",
       "0                       14172.657                     101918.720   \n",
       "1                       10740.082                     251316.480   \n",
       "2                       10203.970                     401252.810   \n",
       "3                        6839.062                     449247.510   \n",
       "4                        9316.140                      21865.930   \n",
       "\n",
       "   mean_amountPaidOnContentsClaim  observations STATEFP COUNTYFP  COUNTYNS  \\\n",
       "0                        4853.272            38      34      001  00882270   \n",
       "1                        4053.492           109      34      001  00882270   \n",
       "2                        3134.788           171      34      001  00882270   \n",
       "3                        1621.832           399      34      001  00882270   \n",
       "4                         950.693            39      34      001  00882270   \n",
       "\n",
       "   GEOID      NAME         NAMELSAD LSAD CLASSFP  MTFCC CSAFP CBSAFP METDIVFP  \\\n",
       "0  34001  Atlantic  Atlantic County   06      H1  G4020   428  12100      NaN   \n",
       "1  34001  Atlantic  Atlantic County   06      H1  G4020   428  12100      NaN   \n",
       "2  34001  Atlantic  Atlantic County   06      H1  G4020   428  12100      NaN   \n",
       "3  34001  Atlantic  Atlantic County   06      H1  G4020   428  12100      NaN   \n",
       "4  34001  Atlantic  Atlantic County   06      H1  G4020   428  12100      NaN   \n",
       "\n",
       "  FUNCSTAT       ALAND     AWATER     INTPTLAT      INTPTLON  \\\n",
       "0        A  1438775279  301270067  +39.4693555  -074.6337591   \n",
       "1        A  1438775279  301270067  +39.4693555  -074.6337591   \n",
       "2        A  1438775279  301270067  +39.4693555  -074.6337591   \n",
       "3        A  1438775279  301270067  +39.4693555  -074.6337591   \n",
       "4        A  1438775279  301270067  +39.4693555  -074.6337591   \n",
       "\n",
       "                                            geometry  \n",
       "0  POLYGON ((-74.58640 39.30989, -74.58665 39.309...  \n",
       "1  POLYGON ((-74.58640 39.30989, -74.58665 39.309...  \n",
       "2  POLYGON ((-74.58640 39.30989, -74.58665 39.309...  \n",
       "3  POLYGON ((-74.58640 39.30989, -74.58665 39.309...  \n",
       "4  POLYGON ((-74.58640 39.30989, -74.58665 39.309...  "
      ]
     },
     "execution_count": 115,
     "metadata": {},
     "output_type": "execute_result"
    }
   ],
   "source": [
    "NJ_counties_join = claims_by_county.merge(\n",
    "    NJ_counties,\n",
    "    left_on=[\"countyCode\"],\n",
    "    right_on=[\"GEOID\"]\n",
    ")\n",
    "\n",
    "NJ_counties_join.head()"
   ]
  },
  {
   "cell_type": "code",
   "execution_count": null,
   "id": "f8b6b142-669d-4c9e-b6c6-cb3896d59643",
   "metadata": {},
   "outputs": [],
   "source": []
  }
 ],
 "metadata": {
  "kernelspec": {
   "display_name": "Python 3 (ipykernel)",
   "language": "python",
   "name": "python3"
  },
  "language_info": {
   "codemirror_mode": {
    "name": "ipython",
    "version": 3
   },
   "file_extension": ".py",
   "mimetype": "text/x-python",
   "name": "python",
   "nbconvert_exporter": "python",
   "pygments_lexer": "ipython3",
   "version": "3.10.12"
  }
 },
 "nbformat": 4,
 "nbformat_minor": 5
}
